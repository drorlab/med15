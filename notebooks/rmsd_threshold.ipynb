{
 "cells": [
  {
   "cell_type": "code",
   "execution_count": 1,
   "metadata": {},
   "outputs": [],
   "source": [
    "import os\n",
    "\n",
    "import matplotlib.pyplot as plt\n",
    "import numpy as np\n",
    "import pandas as pd"
   ]
  },
  {
   "cell_type": "code",
   "execution_count": 2,
   "metadata": {},
   "outputs": [],
   "source": [
    "recs = ['ABD1', 'KIX']\n",
    "names = ['Pdr1AD', 'Gal4', 'Ppr1', 'Pip2']\n"
   ]
  },
  {
   "cell_type": "code",
   "execution_count": 6,
   "metadata": {},
   "outputs": [
    {
     "name": "stdout",
     "output_type": "stream",
     "text": [
      "Suggested clustering rmsd threshold for ABD1  Pdr1AD  :   2.0\n",
      "Suggested clustering rmsd threshold for ABD1  Gal4    :   3.7\n",
      "Suggested clustering rmsd threshold for ABD1  Ppr1    :   2.0\n",
      "Suggested clustering rmsd threshold for ABD1  Pip2    :   2.5\n",
      "Suggested clustering rmsd threshold for KIX   Pdr1AD  :   2.0\n",
      "Suggested clustering rmsd threshold for KIX   Gal4    :   3.2\n",
      "Suggested clustering rmsd threshold for KIX   Ppr1    :   2.6\n",
      "Suggested clustering rmsd threshold for KIX   Pip2    :   3.9\n"
     ]
    }
   ],
   "source": [
    "for rec in recs:\n",
    "    for name in names:\n",
    "        cluster_path = '../' + rec + '/' + name + '/analysis/top500'\n",
    "        all_path = '../' + rec + '/' + name + '/analysis/all'\n",
    "        cluster_results = pd.read_csv(cluster_path, delimiter=' ')\n",
    "        all_results = pd.read_csv(all_path, delimiter=' ')\n",
    "        rmsd_thresh = max(all_results.sort_values('reweighted_sc').iloc[1:10].mean()['rms'], 2.0)\n",
    "        print(f'Suggested clustering rmsd threshold for {rec:5} {name:8}: {rmsd_thresh:5.1f}')"
   ]
  },
  {
   "cell_type": "code",
   "execution_count": null,
   "metadata": {},
   "outputs": [],
   "source": []
  }
 ],
 "metadata": {
  "kernelspec": {
   "display_name": "Python 3",
   "language": "python",
   "name": "python3"
  },
  "language_info": {
   "codemirror_mode": {
    "name": "ipython",
    "version": 3
   },
   "file_extension": ".py",
   "mimetype": "text/x-python",
   "name": "python",
   "nbconvert_exporter": "python",
   "pygments_lexer": "ipython3",
   "version": "3.6.10"
  }
 },
 "nbformat": 4,
 "nbformat_minor": 4
}
